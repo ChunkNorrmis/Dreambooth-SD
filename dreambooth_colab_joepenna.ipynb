{
 "nbformat": 4,
 "nbformat_minor": 0,
 "metadata": {
  "colab": {
   "provenance": [],
   "collapsed_sections": []
  },
  "kernelspec": {
   "name": "python3",
   "display_name": "Python 3"
  },
  "language_info": {
   "name": "python"
  }
 },
 "cells": [
  {
   "cell_type": "code",
   "execution_count": null,
   "outputs": [],
   "source": [
    "#@title Load repo (if needed)\n",
    "!git clone https://github.com/JoePenna/Dreambooth-Stable-Diffusion\n",
    "%cd Dreambooth-Stable-Diffusion"
   ],
   "metadata": {
    "collapsed": false
   }
  },
  {
   "cell_type": "code",
   "execution_count": null,
   "metadata": {
    "id": "qeTrc2vOeiNh"
   },
   "outputs": [],
   "source": [
    "#@title BUILD ENV\n",
    "!pip install torch==1.13.1+cu117 torchvision==0.14.1+cu117 --extra-index-url https://download.pytorch.org/whl/cu117\n",
    "!pip install pytorch-lightning==1.7.6\n",
    "!pip install huggingface_hub\n",
    "!pip install ipywidgets==7.7.1\n",
    "!pip install -r requirements.txt\n",
    "\n",
    "import os\n",
    "os._exit(00)"
   ]
  },
  {
   "cell_type": "code",
   "execution_count": null,
   "outputs": [],
   "source": [
    "#@title # Required - Navigate back to the directory.\n",
    "%cd Dreambooth-Stable-Diffusion"
   ],
   "metadata": {
    "collapsed": false
   }
  },
  {
   "cell_type": "code",
   "source": [
    "#@markdown Download the 1.5 sd model with the improved vae\n",
    "from IPython.display import clear_output\n",
    "\n",
    "from huggingface_hub import hf_hub_download\n",
    "downloaded_model_path = hf_hub_download(\n",
    " repo_id=\"panopstor/EveryDream\",\n",
    " filename=\"sd_v1-5_vae.ckpt\"\n",
    ")\n",
    "\n",
    "# Move the sd_v1-5_vae.ckpt to the root of this directory as \"model.ckpt\"\n",
    "actual_locations_of_model_blob = !readlink -f {downloaded_model_path}\n",
    "!mv {actual_locations_of_model_blob[-1]} model.ckpt\n",
    "clear_output()\n",
    "print(\"✅ model.ckpt successfully downloaded\")\n"
   ],
   "metadata": {
    "id": "O15vMMhCevib"
   },
   "execution_count": null,
   "outputs": []
  },
  {
   "cell_type": "code",
   "source": [
    "#@title # Download Regularization Images\n",
    "#@markdown We’ve created the following image sets\n",
    "#@markdown - `man_euler` - provided by Niko Pueringer (Corridor Digital) - euler @ 40 steps, CFG 7.5\n",
    "#@markdown - `man_unsplash` - pictures from various photographers\n",
    "#@markdown - `person_ddim`\n",
    "#@markdown - `woman_ddim` - provided by David Bielejeski - ddim @ 50 steps, CFG 10.0 <br />\n",
    "#@markdown - `artstyle` - provided by Hackmans - ddim @ 50 steps, CFG 10.0 <br />\n",
    "\n",
    "dataset=\"person_ddim\" #@param [\"man_euler\", \"man_unsplash\", \"person_ddim\", \"woman_ddim\", \"artstyle\"]\n",
    "!git clone https://github.com/djbielejeski/Stable-Diffusion-Regularization-Images-{dataset}.git\n",
    "\n",
    "!mkdir -p regularization_images/{dataset}\n",
    "!mv -v Stable-Diffusion-Regularization-Images-{dataset}/{dataset}/*.* regularization_images/{dataset}"
   ],
   "metadata": {
    "id": "N96aedTtfBjO"
   },
   "execution_count": 2,
   "outputs": []
  },
  {
   "cell_type": "code",
   "source": [
    "#@title # Training Images\n",
    "#@markdown ## Upload your training images\n",
    "#@markdown WARNING: Be sure to upload an even amount of images, otherwise the training inexplicably stops at 1500 steps. <br />\n",
    "#@markdown - 2-3 full body\n",
    "#@markdown - 3-5 upper body\n",
    "#@markdown - 5-12 close-up on face  <br /> <br />\n",
    "#@markdown The images should be as close as possible to the kind of images you’re trying to make (most of the time, that means no selfies).\n",
    "from google.colab import files\n",
    "from IPython.display import clear_output\n",
    "\n",
    "# Create the directory\n",
    "!rm -rf training_images\n",
    "!mkdir -p training_images\n",
    "\n",
    "# Upload the files\n",
    "uploaded = files.upload()\n",
    "for filename in uploaded.keys():\n",
    " updated_file_name = filename.replace(\" \", \"_\")\n",
    " !mv \"{filename}\" \"training_images/{updated_file_name}\"\n",
    " clear_output()\n",
    "\n",
    "# Tell the user what is going on\n",
    "training_images_file_paths = !find training_images/*\n",
    "if len(training_images_file_paths) == 0:\n",
    " print(\"❌ no training images found. Please upload images to training_images\")\n",
    "else:\n",
    " print(\"✅ \" + str(len(training_images_file_paths)) + \" training images found\")\n"
   ],
   "metadata": {
    "id": "A7hmdOdOfGzs"
   },
   "execution_count": null,
   "outputs": []
  },
  {
   "cell_type": "code",
   "source": [
    "#@title # Training\n",
    "\n",
    "#@markdown This isn't used for training, just to help you remember what your trained into the model.\n",
    "project_name = \"project_name\" #@param {type:\"string\"}\n",
    "\n",
    "# MAX STEPS\n",
    "#@markdown How many steps do you want to train for?\n",
    "max_training_steps = 2000 #@param {type:\"integer\"}\n",
    "\n",
    "#@markdown Match class_word to the category of the regularization images you chose above.\n",
    "class_word = \"person\" #@param [\"man\", \"person\", \"woman\"] {allow-input: true}\n",
    "\n",
    "#@markdown Would you like to save a model every X steps? (Example: 250 would output a trained model at 250, 500, 750 steps, etc)\n",
    "save_every_x_steps = -1 #param {type:\"integer\"}\n",
    "\n",
    "#@markdown If you are training a person's face, set this to True\n",
    "i_am_training_a_persons_face = False #@param {type:\"boolean\"}\n",
    "\n",
    "flip_p_arg = 0.0 if i_am_training_a_persons_face else 0.5\n",
    "\n",
    "\n",
    "#@markdown This is the unique token you are incorporating into the stable diffusion model.\n",
    "token = \"firstNameLastName\" #@param {type:\"string\"}\n",
    "\n",
    "reg_data_root = \"/content/Dreambooth-Stable-Diffusion/regularization_images/\" + dataset\n",
    "!rm -rf training_images/.ipynb_checkpoints\n",
    "!python \"main.py\" \\\n",
    " --project_name \"{project_name}\" \\\n",
    " --training_model \"model.ckpt\" \\\n",
    " --regularization_images \"{reg_data_root}\" \\\n",
    " --training_images \"/content/Dreambooth-Stable-Diffusion/training_images\" \\\n",
    " --max_training_steps {max_training_steps} \\\n",
    " --class_word \"{class_word}\" \\\n",
    " --token \"{token}\" \\\n",
    " --flip_p {flip_p_arg} \\\n",
    " --save_every_x_steps {save_every_x_steps}"
   ],
   "metadata": {
    "id": "m2o_fFFvfxHi"
   },
   "execution_count": null,
   "outputs": []
  },
  {
   "cell_type": "code",
   "source": [
    "#@title # Copy and name the checkpoint file(s)\n",
    "import re\n",
    "\n",
    "training_images = !find training_images/*\n",
    "date_string = !date +\"%Y-%m-%dT%H-%M-%S\"\n",
    "\n",
    "if save_every_x_steps <= 0:\n",
    " # Copy the checkpoint into our `trained_models` folder\n",
    " directory_paths = !ls -d logs/*\n",
    " last_checkpoint_file = directory_paths[-1] + \"/ckpts/last.ckpt\"\n",
    " file_name = date_string[-1] + \"_\" + \\\n",
    "             project_name + \"_\" + \\\n",
    "             str(len(training_images)) + \"_training_images_\" + \\\n",
    "             str(max_training_steps) + \"_max_training_steps_\" + \\\n",
    "             token + \"_token_\" + \\\n",
    "             class_word + \"_class_word.ckpt\"\n",
    "\n",
    " file_name = file_name.replace(\" \", \"_\")\n",
    "\n",
    " !mkdir -p trained_models\n",
    " !mv \"{last_checkpoint_file}\" \"trained_models/{file_name}\"\n",
    "\n",
    " print(\"Download your trained model from trained_models/\" + file_name + \" and use in your favorite Stable Diffusion repo!\")\n",
    "else:\n",
    " directory_paths = !ls -d logs/*\n",
    " checkpoints_directory = directory_paths[-1] + \"/ckpts/trainstep_ckpts\"\n",
    " file_paths = !ls -d \"{checkpoints_directory}\"/*\n",
    "\n",
    " for i, original_file_name in enumerate(file_paths):\n",
    "  # Remove the \"epoch=000000-step=0000\" text\n",
    "  steps = re.sub(checkpoints_directory + \"/epoch=\\d{6}-step=0*\", \"\", original_file_name)\n",
    "\n",
    "  # Remove the .ckpt\n",
    "  steps = steps.replace(\".ckpt\", \"\")\n",
    "\n",
    "  # Setup the filename\n",
    "  file_name = date_string[-1] + \"_\" + \\\n",
    "                  project_name + \"_\" + \\\n",
    "                  str(len(training_images)) + \"_training_images_\" + \\\n",
    "                  steps + \"_training_steps_\" + \\\n",
    "                  token + \"_token_\" + \\\n",
    "                  class_word + \"_class_word.ckpt\"\n",
    "\n",
    "  file_name = file_name.replace(\" \", \"_\")\n",
    "\n",
    "  # Make the directory and move the files into it.\n",
    "  !mkdir -p trained_models\n",
    "  !mv \"{original_file_name}\" \"trained_models/{file_name}\"\n",
    "\n",
    " print(\"Download your trained models from the 'trained_models' folder and use in your favorite Stable Diffusion repo!\")"
   ],
   "metadata": {
    "id": "Ll_ZIFNUulKJ"
   },
   "execution_count": null,
   "outputs": []
  },
  {
   "cell_type": "code",
   "source": [
    "#@title Save model in google drive\n",
    "from google.colab import drive\n",
    "drive.mount('/content/drive')\n",
    "\n",
    "!cp trained_models/{file_name} /content/drive/MyDrive/{file_name}"
   ],
   "metadata": {
    "id": "mkidEm4evn1J"
   },
   "execution_count": null,
   "outputs": []
  }
 ]
}
