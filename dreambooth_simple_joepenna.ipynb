{
 "cells": [
  {
   "cell_type": "markdown",
   "metadata": {},
   "source": [
    "# Dreambooth\n",
    "Notebook implementation by David Bielejeski\n",
    "Latest information on: https://github.com/JoePenna/Dreambooth-Stable-Diffusion"
   ]
  },
  {
   "cell_type": "markdown",
   "metadata": {},
   "source": [
    "## Build Environment"
   ]
  },
  {
   "cell_type": "code",
   "execution_count": null,
   "metadata": {
    "pycharm": {
     "is_executing": true
    }
   },
   "outputs": [],
   "source": [
    "from IPython.display import clear_output\n",
    "from IPython.utils import io\n",
    "\n",
    "print(\"Installing widgets library...\")\n",
    "with io.capture_output() as captured:\n",
    "    !pip install ipywidgets\n",
    "clear_output()\n",
    "\n",
    "from JupyterNotebookHelpers.installer_progress_bar_widget import InstallerProgressBar\n",
    "\n",
    "show_detailed_output = False\n",
    "install_commands = [\n",
    "    \"pip install omegaconf\",\n",
    "    \"pip install einops\",\n",
    "    \"pip install pytorch-lightning==1.6.5\",\n",
    "    \"pip install test-tube\",\n",
    "    \"pip install transformers\",\n",
    "    \"pip install kornia\",\n",
    "    \"pip install -e git+https://github.com/CompVis/taming-transformers.git@master#egg=taming-transformers\",\n",
    "    \"pip install -e git+https://github.com/openai/CLIP.git@main#egg=clip\",\n",
    "    \"pip install setuptools==59.5.0\",\n",
    "    \"pip install pillow==9.0.1\",\n",
    "    \"pip install torchmetrics==0.6.0\",\n",
    "    \"pip install -e .\",\n",
    "    \"pip install protobuf==3.20.1\",\n",
    "    \"pip install gdown\",\n",
    "    \"pip install -qq diffusers['training']==0.3.0 transformers ftfy\",\n",
    "    \"pip install huggingface_hub\",\n",
    "    \"pip install captionizer==1.0.1\",\n",
    "    \"pip install gitpython\",\n",
    "]\n",
    "\n",
    "progress_bar = InstallerProgressBar()\n",
    "progress_bar.show(install_commands)\n",
    "\n",
    "try:\n",
    "    for i, install_command in enumerate(install_commands):\n",
    "        if show_detailed_output:\n",
    "            !{install_command}\n",
    "        else:\n",
    "            with io.capture_output() as captured:\n",
    "                !{install_command}\n",
    "            print(f\"☑ '{install_command.replace('pip install ', '')}' installation complete.\")\n",
    "\n",
    "        # update the progress bar\n",
    "        progress_bar.increment(i)\n",
    "\n",
    "    progress_bar.close()\n",
    "    print(\"✅ All Dependencies successfully installed.  Proceed to model download.\")\n",
    "\n",
    "except:\n",
    "    progress_bar.close()\n",
    "    print(\"❌ Error installing dependencies\")"
   ]
  },
  {
   "cell_type": "markdown",
   "metadata": {},
   "source": [
    "# Download a 1.* model"
   ]
  },
  {
   "cell_type": "code",
   "execution_count": null,
   "metadata": {
    "pycharm": {
     "is_executing": true
    }
   },
   "outputs": [],
   "source": [
    "from JupyterNotebookHelpers.download_model import DownloadModel\n",
    "\n",
    "download_model = DownloadModel()\n",
    "download_model.show_form()"
   ]
  },
  {
   "cell_type": "markdown",
   "metadata": {},
   "source": [
    "## Dreambooth Training Environment Setup"
   ]
  },
  {
   "cell_type": "code",
   "execution_count": null,
   "metadata": {
    "pycharm": {
     "is_executing": true
    }
   },
   "outputs": [],
   "source": [
    "from JupyterNotebookHelpers.setup_training import SetupTraining\n",
    "\n",
    "setup_training = SetupTraining()\n",
    "\n",
    "# Pass our selected model to the training form\n",
    "model_to_train_on = download_model.get_selected_model()\n",
    "\n",
    "# Show the form.\n",
    "setup_training.show_form(\n",
    "    selected_model = model_to_train_on\n",
    ")"
   ]
  },
  {
   "cell_type": "markdown",
   "metadata": {},
   "source": [
    "## Training\n",
    "\n",
    "If training a person or subject, keep an eye on your project's `logs/{folder}/images/train/samples_scaled_gs-00xxxx` generations.\n",
    "\n",
    "If training a style, keep an eye on your project's `logs/{folder}/images/train/samples_gs-00xxxx` generations."
   ]
  },
  {
   "cell_type": "code",
   "execution_count": null,
   "metadata": {
    "pycharm": {
     "is_executing": true
    }
   },
   "outputs": [],
   "source": [
    "from JupyterNotebookHelpers.joe_penna_dreambooth_config import parse_config_file, JoePennaDreamboothConfigSchemaV1\n",
    "from IPython.display import clear_output\n",
    "import os\n",
    "import shutil\n",
    "\n",
    "clear_output()\n",
    "\n",
    "# Load the config generated on the previous step\n",
    "active_config_path = \"./joepenna-dreambooth-configs/active-config.json\"\n",
    "config: JoePennaDreamboothConfigSchemaV1 = parse_config_file(active_config_path)\n",
    "\n",
    "if config is not None:\n",
    "    # Show the loaded config.\n",
    "    print(\"✅ Loaded the config file, proceeding to training\")\n",
    "    print(\"active-config.json\")\n",
    "    print(\"------------------\")\n",
    "    print(config.toJSON())\n",
    "\n",
    "    reg_data_root = f\"/workspace/Dreambooth-Stable-Diffusion/regularization_images/{config.dataset}\"\n",
    "\n",
    "    # Cleanup garbage files if they exist\n",
    "    leftover_training_files = [\"./training_images/.ipynb_checkpoints\", \"./regularization_images/.ipynb_checkpoints\"]\n",
    "    for i, ipynb_checkpoint_folder in enumerate(leftover_training_files):\n",
    "        if os.path.exists(ipynb_checkpoint_folder):\n",
    "            shutil.rmtree(ipynb_checkpoint_folder)\n",
    "\n",
    "    # Train\n",
    "    !python \"main.py\" \\\n",
    "        --base \"configs/stable-diffusion/v1-finetune_unfrozen.yaml\" \\\n",
    "        -t \\\n",
    "        --actual_resume \"{config.model_filename}\" \\\n",
    "        --reg_data_root \"{reg_data_root}\" \\\n",
    "        -n \"{config.project_name}\" \\\n",
    "        --gpus 0, \\\n",
    "        --data_root \"/workspace/Dreambooth-Stable-Diffusion/training_images\" \\\n",
    "        --max_training_steps {config.max_training_steps} \\\n",
    "        --class_word \"{config.class_word}\" \\\n",
    "        --token \"{config.token}\" \\\n",
    "        --no-test \\\n",
    "        --flip_p {config.flip_percent} \\\n",
    "        --learning_rate {config.learning_rate} \\\n",
    "        --save_every_x_steps {config.save_every_x_steps}"
   ]
  },
  {
   "cell_type": "markdown",
   "metadata": {},
   "source": [
    "## Copy and name the checkpoint file(s)"
   ]
  },
  {
   "cell_type": "code",
   "execution_count": null,
   "metadata": {
    "pycharm": {
     "is_executing": true
    }
   },
   "outputs": [],
   "source": [
    "from JupyterNotebookHelpers.copy_and_name_checkpoints import CopyAndNameCheckpoints\n",
    "\n",
    "active_config_path = \"./joepenna-dreambooth-configs/active-config.json\"\n",
    "\n",
    "copy_and_name_checkpoints = CopyAndNameCheckpoints()\n",
    "copy_and_name_checkpoints.execute(\n",
    "    active_config_path=active_config_path,\n",
    "    output_folder=\"./trained_models\"\n",
    ")"
   ]
  },
  {
   "cell_type": "markdown",
   "metadata": {},
   "source": [
    "# Optional - Upload to google drive\n",
    "* run the following commands in a new `terminal` in the `Dreambooth-Stable-Diffusion` directory\n",
    "* `chmod +x ./gdrive`\n",
    "* `./gdrive about`\n",
    "* `paste your token here after navigating to the link`\n",
    "* `./gdrive upload trained_models/{file_name.ckpt}`"
   ]
  },
  {
   "cell_type": "markdown",
   "metadata": {},
   "source": [
    "# Big Important Note!\n",
    "\n",
    "The way to use your token is `<token> <class>` ie `joepenna person` and not just `joepenna`"
   ]
  }
 ],
 "metadata": {
  "kernelspec": {
   "display_name": "Python 3 (ipykernel)",
   "language": "python",
   "name": "python3"
  },
  "language_info": {
   "codemirror_mode": {
    "name": "ipython",
    "version": 3
   },
   "file_extension": ".py",
   "mimetype": "text/x-python",
   "name": "python",
   "nbconvert_exporter": "python",
   "pygments_lexer": "ipython3",
   "version": "3.10.7"
  }
 },
 "nbformat": 4,
 "nbformat_minor": 1
}
